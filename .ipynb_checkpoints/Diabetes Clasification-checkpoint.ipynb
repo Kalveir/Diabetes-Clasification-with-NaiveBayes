{
 "cells": [
  {
   "cell_type": "markdown",
   "id": "dcc15519",
   "metadata": {},
   "source": [
    "# Diabetes Clasification with Naive Bayes"
   ]
  },
  {
   "cell_type": "markdown",
   "id": "c1165719",
   "metadata": {},
   "source": [
    "## (!!) Import Package"
   ]
  },
  {
   "cell_type": "code",
   "execution_count": 14,
   "id": "8e25da88",
   "metadata": {},
   "outputs": [],
   "source": [
    "import warnings\n",
    "warnings.simplefilter(action='ignore',category=FutureWarning)\n",
    "from NaiveBayes.categorical.kategorikal import Categorical\n",
    "from NaiveBayes.probabilistic.probabilistik import Probabilistic\n",
    "from NaiveBayes.compare.perbandingan import Compare\n",
    "from NaiveBayes.normalization.normalisasi import Normalization\n",
    "import pandas as pd\n",
    "from IPython.display import display"
   ]
  },
  {
   "cell_type": "markdown",
   "id": "8addcd7f",
   "metadata": {},
   "source": [
    "## A. Single Clasification"
   ]
  },
  {
   "cell_type": "markdown",
   "id": "060f67b7",
   "metadata": {},
   "source": [
    "### 1. Input Data Variable"
   ]
  },
  {
   "cell_type": "code",
   "execution_count": 15,
   "id": "0b6f83c2",
   "metadata": {},
   "outputs": [],
   "source": [
    "Glucose = 210\n",
    "Blood = 76\n",
    "Bmi = 39.4\n",
    "Age =43"
   ]
  },
  {
   "cell_type": "markdown",
   "id": "b6e80c5e",
   "metadata": {},
   "source": [
    "### 2. Naive Bayes Process"
   ]
  },
  {
   "cell_type": "code",
   "execution_count": 16,
   "id": "a9bd7d07",
   "metadata": {},
   "outputs": [],
   "source": [
    "def Dataframe(a,b,c,d,e):\n",
    "        fd = pd.DataFrame(columns=['Kadar Glukosa','Tekanan Darah','Berat Tubuh','Umur','Prediksi'])\n",
    "        fd = fd.append({'Kadar Glukosa':a,'Tekanan Darah':b,'Berat Tubuh':c,'Umur':d,'Prediksi':e},ignore_index=True)\n",
    "        display(fd)"
   ]
  },
  {
   "cell_type": "code",
   "execution_count": 17,
   "id": "8f72acb7",
   "metadata": {},
   "outputs": [
    {
     "data": {
      "text/html": [
       "<div>\n",
       "<style scoped>\n",
       "    .dataframe tbody tr th:only-of-type {\n",
       "        vertical-align: middle;\n",
       "    }\n",
       "\n",
       "    .dataframe tbody tr th {\n",
       "        vertical-align: top;\n",
       "    }\n",
       "\n",
       "    .dataframe thead th {\n",
       "        text-align: right;\n",
       "    }\n",
       "</style>\n",
       "<table border=\"1\" class=\"dataframe\">\n",
       "  <thead>\n",
       "    <tr style=\"text-align: right;\">\n",
       "      <th></th>\n",
       "      <th>Kadar Glukosa</th>\n",
       "      <th>Tekanan Darah</th>\n",
       "      <th>Berat Tubuh</th>\n",
       "      <th>Umur</th>\n",
       "      <th>Prediksi</th>\n",
       "    </tr>\n",
       "  </thead>\n",
       "  <tbody>\n",
       "    <tr>\n",
       "      <th>0</th>\n",
       "      <td>DIABETES</td>\n",
       "      <td>NORMAL</td>\n",
       "      <td>OBESITAS</td>\n",
       "      <td>Dewasa</td>\n",
       "      <td>Positive</td>\n",
       "    </tr>\n",
       "  </tbody>\n",
       "</table>\n",
       "</div>"
      ],
      "text/plain": [
       "  Kadar Glukosa Tekanan Darah Berat Tubuh    Umur  Prediksi\n",
       "0      DIABETES        NORMAL    OBESITAS  Dewasa  Positive"
      ]
     },
     "metadata": {},
     "output_type": "display_data"
    }
   ],
   "source": [
    "#input data\n",
    "kategori = Categorical(Glucose,Blood,Bmi,Age)\n",
    "#probabilistic from database\n",
    "zero = Probabilistic(kategori.Glucose(),kategori.Blood(),kategori.Bmi(),kategori.Age(),0)\n",
    "one = Probabilistic(kategori.Glucose(),kategori.Blood(),kategori.Bmi(),kategori.Age(),1)\n",
    "#sum all data\n",
    "total_data = zero.Label() + one.Label()\n",
    "#normalization\n",
    "positive = Normalization(one.Glukosa(),one.Darah(),one.Berat(),one.Umur(),one.Label(),total_data)\n",
    "negative = Normalization(zero.Glukosa(),zero.Darah(),zero.Berat(),zero.Umur(),zero.Label(),total_data)\n",
    "#Comparation data\n",
    "hasil = Compare(positive.Outcome(),negative.Outcome())\n",
    "#Output\n",
    "Dataframe(kategori.Glucose(),kategori.Blood(),kategori.Bmi(),kategori.Age(),hasil.Output())"
   ]
  },
  {
   "cell_type": "markdown",
   "id": "3f42738e",
   "metadata": {},
   "source": [
    "## B. Multiple Clasification"
   ]
  },
  {
   "cell_type": "markdown",
   "id": "0afef979",
   "metadata": {},
   "source": [
    "### 1. Input & Output CSV Filename"
   ]
  },
  {
   "cell_type": "code",
   "execution_count": 18,
   "id": "284f3981",
   "metadata": {},
   "outputs": [],
   "source": [
    "file_csv = 'testing.csv'\n",
    "output_csv = 'hasil.csv'"
   ]
  },
  {
   "cell_type": "markdown",
   "id": "c38e76d5",
   "metadata": {},
   "source": [
    "### 2. Naive Bayes Process"
   ]
  },
  {
   "cell_type": "code",
   "execution_count": 19,
   "id": "a07141c7",
   "metadata": {},
   "outputs": [
    {
     "name": "stdout",
     "output_type": "stream",
     "text": [
      "file has been exported with output named  hasil.csv\n"
     ]
    }
   ],
   "source": [
    "dataset = pd.DataFrame(columns=['Kadar Glukosa','Tekanan Darah','Berat Tubuh','Umur','Prediksi'])\n",
    "df = pd.read_csv(file_csv)\n",
    "for index,row in df.iterrows():\n",
    "    #input data\n",
    "    kategori = Categorical(row[df.columns[0]],row[df.columns[1]],row[df.columns[2]],row[df.columns[3]])\n",
    "    #probabilistic from database\n",
    "    zero = Probabilistic(kategori.Glucose(),kategori.Blood(),kategori.Bmi(),kategori.Age(),0)\n",
    "    one = Probabilistic(kategori.Glucose(),kategori.Blood(),kategori.Bmi(),kategori.Age(),1)\n",
    "    #sum all data\n",
    "    total_data = zero.Label() + one.Label()\n",
    "    #normalization\n",
    "    positive = Normalization(one.Glukosa(),one.Darah(),one.Berat(),one.Umur(),one.Label(),total_data)\n",
    "    negative = Normalization(zero.Glukosa(),zero.Darah(),zero.Berat(),zero.Umur(),zero.Label(),total_data)\n",
    "    #Comparation data\n",
    "    hasil = Compare(positive.Outcome(),negative.Outcome())\n",
    "    #Output\n",
    "    # print(kategori.Glucose(),kategori.Blood(),kategori.Bmi(),kategori.Age(),hasil.Dataframe())\n",
    "    dataset = dataset.append({'Kadar Glukosa':kategori.Glucose(),'Tekanan Darah':kategori.Blood(),'Berat Tubuh':kategori.Bmi(),'Umur':kategori.Age(),'Prediksi':hasil.Output()},ignore_index=True)\n",
    "    \n",
    "dataset.to_csv(output_csv)\n",
    "print(\"file has been exported with output named \",output_csv)"
   ]
  }
 ],
 "metadata": {
  "kernelspec": {
   "display_name": "Python 3 (ipykernel)",
   "language": "python",
   "name": "python3"
  },
  "language_info": {
   "codemirror_mode": {
    "name": "ipython",
    "version": 3
   },
   "file_extension": ".py",
   "mimetype": "text/x-python",
   "name": "python",
   "nbconvert_exporter": "python",
   "pygments_lexer": "ipython3",
   "version": "3.8.0"
  }
 },
 "nbformat": 4,
 "nbformat_minor": 5
}
